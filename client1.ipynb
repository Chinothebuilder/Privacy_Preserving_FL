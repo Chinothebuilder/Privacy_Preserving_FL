{
 "cells": [
  {
   "cell_type": "code",
   "execution_count": 1,
   "id": "925ecff1-6fb6-4548-84c5-3c207b89f669",
   "metadata": {},
   "outputs": [],
   "source": [
    "import tenseal as ts\n",
    "import os\n",
    "import utils\n",
    "import flwr as fl\n",
    "import tensorflow as tf\n",
    "from tensorflow import keras\n",
    "import sys\n",
    "import seaborn as sns\n",
    "import matplotlib.pyplot as plt\n",
    "import numpy as np\n",
    "import pickle\n",
    "import time\n",
    "from fractions import Fraction\n",
    "from sklearn.metrics import confusion_matrix"
   ]
  },
  {
   "cell_type": "code",
   "execution_count": 2,
   "id": "49a8de6b-5843-4afd-9e48-5b801b8934bf",
   "metadata": {},
   "outputs": [],
   "source": [
    "# Load and compile Keras model\n",
    "# model = keras.Sequential([\n",
    "    #keras.layers.Flatten(input_shape=(28,28)),\n",
    "    #keras.layers.Dense(128, activation='relu'),\n",
    "    #keras.layers.Dense(256, activation='relu'),\n",
    "    #keras.layers.Dense(10, activation='softmax')])\n",
    "#model.compile(\"adam\", \"sparse_categorical_crossentropy\", metrics=[\"accuracy\"])'''"
   ]
  },
  {
   "cell_type": "code",
   "execution_count": 2,
   "id": "832aa84f-d4c5-430c-a1b5-c991a5862a7d",
   "metadata": {},
   "outputs": [],
   "source": [
    "# Load dataset\n",
    "(x_train, y_train), (x_test, y_test) = tf.keras.datasets.mnist.load_data()\n",
    "x_train, x_test = x_train[..., np.newaxis]/255.0, x_test[..., np.newaxis]/255.0\n",
    "dist = [4000, 4000, 4000, 3000, 10, 10, 10, 10, 4000, 10]"
   ]
  },
  {
   "cell_type": "code",
   "execution_count": 4,
   "id": "7c53e064-63e9-47d0-99af-2d76e0d7bfc4",
   "metadata": {},
   "outputs": [],
   "source": [
    "# Slicing the MNIST original dataset to retain only part of the dataset.\n",
    "#x_train = x_train[20000:,:,:]\n",
    "#y_train = y_train[20000:]\n",
    "#x_test = x_test[4000:,:,:]\n",
    "#y_test  = y_test[4000:]"
   ]
  },
  {
   "cell_type": "code",
   "execution_count": 3,
   "id": "9a99d1a2-3d7b-4511-be98-8f3463390b41",
   "metadata": {
    "tags": []
   },
   "outputs": [],
   "source": [
    "# Auxillary methods\n",
    "def getDist(y):\n",
    "    ax = sns.countplot(x = y)\n",
    "    ax.set(title=\"Count of data classes\")\n",
    "    plt.show()\n",
    "\n",
    "def getData(dist, x, y):\n",
    "    dx = []\n",
    "    dy = []\n",
    "    counts = [0 for i in range(10)]\n",
    "    for i in range(len(x)):\n",
    "        if counts[y[i]]<dist[y[i]]:\n",
    "            dx.append(x[i])\n",
    "            dy.append(y[i])\n",
    "            counts[y[i]] += 1\n",
    "        \n",
    "    return np.array(dx), np.array(dy)"
   ]
  },
  {
   "cell_type": "code",
   "execution_count": 4,
   "id": "f9828264-1b5a-40ae-8b98-f107bcd600c4",
   "metadata": {
    "tags": []
   },
   "outputs": [
    {
     "data": {
      "image/png": "[encoded data removed]",
      "text/plain": [
       "<Figure size 432x288 with 1 Axes>"
      ]
     },
     "metadata": {
      "needs_background": "light"
     },
     "output_type": "display_data"
    }
   ],
   "source": [
    "x_train, y_train = getData(dist, x_train, y_train)\n",
    "getDist(y_train)"
   ]
  },
  {
   "cell_type": "code",
   "execution_count": 7,
   "id": "1c5c5ddf-ba59-4e9c-afa5-21afb49c95b6",
   "metadata": {},
   "outputs": [],
   "source": [
    "# Slicing the MNIST original dataset to retain only part of the dataset.\n",
    "#x_train = x_train[20000:40596,:,:]\n",
    "#y_train = y_train[20000:40596]\n",
    "#x_test = x_test[4000:7139,:,:]\n",
    "#y_test  = y_test[4000:7139]"
   ]
  },
  {
   "cell_type": "code",
   "execution_count": 8,
   "id": "bc615c0d-b179-4098-b6c8-36544fceed59",
   "metadata": {},
   "outputs": [
    {
     "name": "stdout",
     "output_type": "stream",
     "text": [
      "x_train: 19050\n",
      "y_train: 19050\n",
      "x_test: 10000\n",
      "y_test: 10000\n"
     ]
    }
   ],
   "source": [
    "# Length of the new dataset\n",
    "print(\"x_train:\", len(x_train))\n",
    "print(\"y_train:\", len(y_train))\n",
    "print(\"x_test:\", len(x_test))\n",
    "print(\"y_test:\", len(y_test))"
   ]
  },
  {
   "cell_type": "code",
   "execution_count": 9,
   "id": "49c46857-3c3a-4426-9a91-47c385ee8529",
   "metadata": {},
   "outputs": [
    {
     "name": "stdout",
     "output_type": "stream",
     "text": [
      "Model: \"sequential\"\n",
      "_________________________________________________________________\n",
      " Layer (type)                Output Shape              Param #   \n",
      "=================================================================\n",
      " flatten (Flatten)           (None, 784)               0         \n",
      "                                                                 \n",
      " dense (Dense)               (None, 10)                7840      \n",
      "                                                                 \n",
      " dropout (Dropout)           (None, 10)                0         \n",
      "                                                                 \n",
      " dense_1 (Dense)             (None, 10)                100       \n",
      "                                                                 \n",
      "=================================================================\n",
      "Total params: 7,940\n",
      "Trainable params: 7,940\n",
      "Non-trainable params: 0\n",
      "_________________________________________________________________\n"
     ]
    }
   ],
   "source": [
    "# Retrieve the base model\n",
    "new_model = tf.keras.models.load_model('./saved_model/base_model')\n",
    "# Check its architecture.\n",
    "new_model.summary()"
   ]
  },
  {
   "cell_type": "code",
   "execution_count": 10,
   "id": "b3d7bb14-f90f-4b86-8e2c-5e3d040ba36a",
   "metadata": {},
   "outputs": [
    {
     "name": "stdout",
     "output_type": "stream",
     "text": [
      "313/313 [==============================] - 2s 3ms/step\n"
     ]
    },
    {
     "data": {
      "text/plain": [
       "array([[ 950,    0,    3,    2,    2,    6,   11,    1,    5,    0],\n",
       "       [   0, 1110,    6,    4,    1,    1,    3,    0,   10,    0],\n",
       "       [  12,    6,  902,   22,   14,    1,   15,   14,   44,    2],\n",
       "       [   5,    1,   21,  902,    1,   32,    3,   14,   22,    9],\n",
       "       [   1,    4,    5,    0,  918,    0,   12,    0,    7,   35],\n",
       "       [  18,    2,    6,   56,   12,  718,    7,    7,   60,    6],\n",
       "       [  22,    3,   12,    0,   16,   15,  881,    0,    9,    0],\n",
       "       [   3,   23,   24,   10,    7,    0,    0,  924,    3,   34],\n",
       "       [   6,   11,   12,   30,   16,   27,    9,   17,  835,   11],\n",
       "       [  11,    5,    0,   15,   69,    4,    0,   24,   10,  871]],\n",
       "      dtype=int64)"
      ]
     },
     "execution_count": 10,
     "metadata": {},
     "output_type": "execute_result"
    }
   ],
   "source": [
    "# Creating a multiclass confusion matrix before training.\n",
    "predictions = new_model.predict(x_test)\n",
    "confusion = confusion_matrix(y_test, np.argmax(predictions,axis=1))\n",
    "confusion"
   ]
  },
  {
   "cell_type": "code",
   "execution_count": 11,
   "id": "634f8bc3-f4f6-420b-8846-f543c6b4ee67",
   "metadata": {},
   "outputs": [
    {
     "name": "stderr",
     "output_type": "stream",
     "text": [
      "C:\\Users\\USER\\anaconda3\\lib\\site-packages\\keras\\backend.py:5585: UserWarning: \"`sparse_categorical_crossentropy` received `from_logits=True`, but the `output` argument was produced by a Softmax activation and thus does not represent logits. Was this intended?\n",
      "  output, from_logits = _get_logits(\n"
     ]
    },
    {
     "name": "stdout",
     "output_type": "stream",
     "text": [
      "313/313 [==============================] - 2s 3ms/step - loss: 0.3539 - sparse_categorical_accuracy: 0.9011\n"
     ]
    },
    {
     "data": {
      "text/plain": [
       "[0.3539418578147888, 0.9010999798774719]"
      ]
     },
     "execution_count": 11,
     "metadata": {},
     "output_type": "execute_result"
    }
   ],
   "source": [
    "# Evaluate the base_model to see the loss and sparse_categorical_accuracy before training.\n",
    "new_model.evaluate(x_test, y_test)"
   ]
  },
  {
   "cell_type": "code",
   "execution_count": 12,
   "id": "a894b4b3-e4c7-481a-b1a3-1ea07b9600b0",
   "metadata": {},
   "outputs": [],
   "source": [
    "# Compiling the model.\n",
    "new_model.compile(\n",
    "    optimizer=tf.keras.optimizers.Adam(0.001),\n",
    "    loss=tf.keras.losses.SparseCategoricalCrossentropy(from_logits=True),\n",
    "    metrics=[tf.keras.metrics.SparseCategoricalAccuracy()],\n",
    ")"
   ]
  },
  {
   "cell_type": "code",
   "execution_count": 13,
   "id": "fa2db955-8c6a-4923-a223-56ade49bee61",
   "metadata": {},
   "outputs": [
    {
     "name": "stdout",
     "output_type": "stream",
     "text": [
      "Epoch 1/10\n",
      "149/149 [==============================] - 3s 11ms/step - loss: 0.4215 - sparse_categorical_accuracy: 0.8623 - val_loss: 1.0307 - val_sparse_categorical_accuracy: 0.6475\n",
      "Epoch 2/10\n",
      "149/149 [==============================] - 1s 7ms/step - loss: 0.3426 - sparse_categorical_accuracy: 0.8918 - val_loss: 1.6278 - val_sparse_categorical_accuracy: 0.5344\n",
      "Epoch 3/10\n",
      "149/149 [==============================] - 1s 9ms/step - loss: 0.3243 - sparse_categorical_accuracy: 0.8958 - val_loss: 2.0724 - val_sparse_categorical_accuracy: 0.5029\n",
      "Epoch 4/10\n",
      "149/149 [==============================] - 1s 8ms/step - loss: 0.2964 - sparse_categorical_accuracy: 0.9058 - val_loss: 2.3520 - val_sparse_categorical_accuracy: 0.4972\n",
      "Epoch 5/10\n",
      "149/149 [==============================] - 1s 7ms/step - loss: 0.2915 - sparse_categorical_accuracy: 0.9075 - val_loss: 2.5682 - val_sparse_categorical_accuracy: 0.4942\n",
      "Epoch 6/10\n",
      "149/149 [==============================] - 1s 7ms/step - loss: 0.2818 - sparse_categorical_accuracy: 0.9098 - val_loss: 2.7572 - val_sparse_categorical_accuracy: 0.4937\n",
      "Epoch 7/10\n",
      "149/149 [==============================] - 1s 8ms/step - loss: 0.2712 - sparse_categorical_accuracy: 0.9142 - val_loss: 2.7423 - val_sparse_categorical_accuracy: 0.4930\n",
      "Epoch 8/10\n",
      "149/149 [==============================] - 1s 6ms/step - loss: 0.2692 - sparse_categorical_accuracy: 0.9133 - val_loss: 2.8801 - val_sparse_categorical_accuracy: 0.4919\n",
      "Epoch 9/10\n",
      "149/149 [==============================] - 1s 6ms/step - loss: 0.2647 - sparse_categorical_accuracy: 0.9153 - val_loss: 3.0548 - val_sparse_categorical_accuracy: 0.4918\n",
      "Epoch 10/10\n",
      "149/149 [==============================] - 1s 7ms/step - loss: 0.2578 - sparse_categorical_accuracy: 0.9169 - val_loss: 3.1788 - val_sparse_categorical_accuracy: 0.4915\n"
     ]
    },
    {
     "data": {
      "text/plain": [
       "<keras.callbacks.History at 0x1b380cdde50>"
      ]
     },
     "execution_count": 13,
     "metadata": {},
     "output_type": "execute_result"
    }
   ],
   "source": [
    "# Retraining the base_model to obtain the new weights.\n",
    "new_model.fit(x_train,\n",
    "          y_train,\n",
    "          batch_size=128,\n",
    "          epochs=10,\n",
    "          verbose=1,\n",
    "          validation_data=(x_test, y_test))"
   ]
  },
  {
   "cell_type": "code",
   "execution_count": 15,
   "id": "bc1a778d-7e66-4dee-8142-456f0470d64f",
   "metadata": {},
   "outputs": [
    {
     "name": "stdout",
     "output_type": "stream",
     "text": [
      "313/313 [==============================] - 1s 3ms/step - loss: 3.1788 - sparse_categorical_accuracy: 0.4915\n"
     ]
    },
    {
     "data": {
      "text/plain": [
       "[3.1788313388824463, 0.49149999022483826]"
      ]
     },
     "execution_count": 15,
     "metadata": {},
     "output_type": "execute_result"
    }
   ],
   "source": [
    "# Evaluate the base_model to see the loss and sparse_categorical_accuracy after training.\n",
    "new_model.evaluate(x_test, y_test)"
   ]
  },
  {
   "cell_type": "code",
   "execution_count": 18,
   "id": "603342bd-88d6-4013-8286-4c67feea5694",
   "metadata": {},
   "outputs": [],
   "source": [
    "from time import time"
   ]
  },
  {
   "cell_type": "code",
   "execution_count": 23,
   "id": "3f5b7b52-c70e-43a6-bea7-b6411f231d66",
   "metadata": {
    "tags": []
   },
   "outputs": [],
   "source": [
    "def client_gentry_encrypt (K, r, p, q):\n",
    "    # Extract the weights.\n",
    "    client1_weights = new_model.layers[1].get_weights()\n",
    "    # Mask the weights\n",
    "    res_A = [(x + K) for x in client1_weights]\n",
    "    \n",
    "    # Splitting the weights array into 2 arrays 'arr0' and 'arr1'\n",
    "    # This is because protobuf has a hardlimit of 2GB, hence, we split the weights into 2 arrays.\n",
    "    arr = np.array(res_A)\n",
    "    arr0, arr1 = np.dsplit(arr, 2)\n",
    "    \n",
    "    #encrypt mask weights A\n",
    "    encrypt_A = [(x + (2*r) + (q*p)) for x in res_A]\n",
    "    # stored the encrpyted weights in dict. \n",
    "    client1_query_gentry = { \"data1\" : encrypt_A,}\n",
    "    \n",
    "    # Store the encrypyted weights \n",
    "    enc_1 = pickle.dumps(client1_query_gentry)\n",
    "    with open(\"client1_enc_gentry\", \"wb\") as file:\n",
    "        file.write(enc_1)\n",
    "    \n",
    "    \n",
    "    return arr0, arr1"
   ]
  },
  {
   "cell_type": "code",
   "execution_count": 24,
   "id": "669fdbfe-d106-46e1-a422-33b1f24fa409",
   "metadata": {},
   "outputs": [
    {
     "name": "stdout",
     "output_type": "stream",
     "text": [
      "c2p gentry time: 8.000850677490234 ms\n"
     ]
    }
   ],
   "source": [
    "t_start = time()\n",
    "arr0, arr1 = client_gentry_encrypt(500, 3, 29, 22)\n",
    "t_end = time()\n",
    "print(\"c2p gentry time: {} ms\".format((t_end - t_start) * 1000))"
   ]
  },
  {
   "cell_type": "markdown",
   "id": "589fc791-ff28-4cd1-8581-28b3bb592662",
   "metadata": {
    "tags": []
   },
   "source": [
    "#### client encryption "
   ]
  },
  {
   "cell_type": "code",
   "execution_count": 30,
   "id": "e688adce-38db-4a36-99ce-3f95d37fe348",
   "metadata": {},
   "outputs": [
    {
     "name": "stdout",
     "output_type": "stream",
     "text": [
      "weight encryption time for client: 214963.782787323 ms\n"
     ]
    }
   ],
   "source": [
    "def encrypt_weights():\n",
    "    #obtain the context from the file \n",
    "    key_query_file = open('key_query', \"rb\")\n",
    "    context_key = pickle.load(key_query_file)\n",
    "    key_query_file.close()\n",
    "\n",
    "    # Recreate the key.\n",
    "    context = ts.context_from(context_key[\"context\"])\n",
    "    \n",
    "    # perform Encryption on the weights for the first group arr0\n",
    "    t_start = time()\n",
    "    enc_v1 = ts.ckks_tensor(context, arr0)\n",
    "    enc_v1_serialised = enc_v1.serialize()\n",
    "    # Perform Encryption on the weights for the second group arr1\n",
    "    enc_v2 = ts.ckks_tensor(context, arr1)\n",
    "    enc_v2_serialised = enc_v2.serialize()\n",
    "    t_end = time()\n",
    "    print(\"weight encryption time for client: {} ms\".format((t_end - t_start) * 1000))\n",
    "    \n",
    "    # Store the encrypted weights in a dict\n",
    "    client1_query = {\"data1\" : enc_v1_serialised, \"data2\" : enc_v2_serialised}\n",
    "    \n",
    "    # Save the encrypted weights in a pickle file\n",
    "    input_dictionary = (client1_query)\n",
    "    file = open('client1_enc', 'wb')\n",
    "    pickle.dump(input_dictionary, file)\n",
    "    file.close()\n",
    "    \n",
    "    return context\n",
    "context = encrypt_weights()"
   ]
  },
  {
   "cell_type": "markdown",
   "id": "4cb75047-e700-4c7c-9afa-c5082bfd6501",
   "metadata": {
    "tags": []
   },
   "source": [
    "## Loading updated model."
   ]
  },
  {
   "cell_type": "code",
   "execution_count": 5,
   "id": "60391158-2bd7-4af1-ab59-e7aa327c2cfa",
   "metadata": {},
   "outputs": [],
   "source": [
    "#In this section, we uload the updated model which have the averaged weights from the server.\n",
    "updated_model = tf.keras.models.load_model('saved_model/updated_model')"
   ]
  },
  {
   "cell_type": "code",
   "execution_count": 6,
   "id": "78cc0f1e-412c-4e48-ab95-5453a48bd4c5",
   "metadata": {
    "tags": []
   },
   "outputs": [
    {
     "name": "stdout",
     "output_type": "stream",
     "text": [
      "Model: \"sequential\"\n",
      "_________________________________________________________________\n",
      " Layer (type)                Output Shape              Param #   \n",
      "=================================================================\n",
      " flatten (Flatten)           (None, 784)               0         \n",
      "                                                                 \n",
      " dense (Dense)               (None, 10)                7840      \n",
      "                                                                 \n",
      " dropout (Dropout)           (None, 10)                0         \n",
      "                                                                 \n",
      " dense_1 (Dense)             (None, 10)                100       \n",
      "                                                                 \n",
      "=================================================================\n",
      "Total params: 7,940\n",
      "Trainable params: 7,940\n",
      "Non-trainable params: 0\n",
      "_________________________________________________________________\n"
     ]
    }
   ],
   "source": [
    "# Check its architecture\n",
    "updated_model.summary()"
   ]
  },
  {
   "cell_type": "code",
   "execution_count": 7,
   "id": "f4160129-abb2-4a66-97fb-d03c1abe93ff",
   "metadata": {},
   "outputs": [
    {
     "name": "stdout",
     "output_type": "stream",
     "text": [
      "313/313 [==============================] - 3s 6ms/step\n"
     ]
    },
    {
     "data": {
      "text/plain": [
       "array([[ 951,    0,    3,    2,    3,    7,    9,    1,    4,    0],\n",
       "       [   0, 1109,    5,    3,    1,    1,    4,    0,   12,    0],\n",
       "       [  15,    7,  913,   16,   12,    1,   19,   13,   32,    4],\n",
       "       [   5,    1,   25,  899,    0,   32,    1,   13,   22,   12],\n",
       "       [   2,    4,    6,    0,  900,    0,   14,    0,   11,   45],\n",
       "       [  20,    1,    7,   49,    8,  730,    9,    6,   54,    8],\n",
       "       [  20,    3,    9,    0,    9,   12,  898,    0,    7,    0],\n",
       "       [   4,   21,   23,    8,    9,    0,    0,  920,    0,   43],\n",
       "       [   7,   11,   11,   24,   10,   30,   10,   12,  839,   20],\n",
       "       [   9,    4,    0,   12,   40,    5,    1,   19,   13,  906]],\n",
       "      dtype=int64)"
      ]
     },
     "execution_count": 7,
     "metadata": {},
     "output_type": "execute_result"
    }
   ],
   "source": [
    "# Creating a multiclass confusion matrix before training.\n",
    "predictions = updated_model.predict(x_test)\n",
    "confusion = confusion_matrix(y_test, np.argmax(predictions,axis=1))\n",
    "confusion"
   ]
  },
  {
   "cell_type": "code",
   "execution_count": 8,
   "id": "a48b00f7-4094-4dc9-b949-205bd381bbbc",
   "metadata": {},
   "outputs": [
    {
     "name": "stderr",
     "output_type": "stream",
     "text": [
      "C:\\Users\\USER\\anaconda3\\lib\\site-packages\\keras\\backend.py:5585: UserWarning: \"`sparse_categorical_crossentropy` received `from_logits=True`, but the `output` argument was produced by a Softmax activation and thus does not represent logits. Was this intended?\n",
      "  output, from_logits = _get_logits(\n"
     ]
    },
    {
     "name": "stdout",
     "output_type": "stream",
     "text": [
      "313/313 [==============================] - 3s 6ms/step - loss: 0.3234 - sparse_categorical_accuracy: 0.9065\n",
      "Epoch 1/10\n",
      "149/149 [==============================] - 6s 22ms/step - loss: 0.3968 - sparse_categorical_accuracy: 0.8633 - val_loss: 1.1197 - val_sparse_categorical_accuracy: 0.6479\n",
      "Epoch 2/10\n",
      "149/149 [==============================] - 2s 15ms/step - loss: 0.3223 - sparse_categorical_accuracy: 0.8957 - val_loss: 1.6452 - val_sparse_categorical_accuracy: 0.5604\n",
      "Epoch 3/10\n",
      "149/149 [==============================] - 2s 14ms/step - loss: 0.3035 - sparse_categorical_accuracy: 0.9027 - val_loss: 1.9931 - val_sparse_categorical_accuracy: 0.5298\n",
      "Epoch 4/10\n",
      "149/149 [==============================] - 2s 13ms/step - loss: 0.2928 - sparse_categorical_accuracy: 0.9077 - val_loss: 2.1207 - val_sparse_categorical_accuracy: 0.5181\n",
      "Epoch 5/10\n",
      "149/149 [==============================] - 2s 12ms/step - loss: 0.2793 - sparse_categorical_accuracy: 0.9064 - val_loss: 2.3843 - val_sparse_categorical_accuracy: 0.5077\n",
      "Epoch 6/10\n",
      "149/149 [==============================] - 2s 12ms/step - loss: 0.2728 - sparse_categorical_accuracy: 0.9107 - val_loss: 2.5037 - val_sparse_categorical_accuracy: 0.5034\n",
      "Epoch 7/10\n",
      "149/149 [==============================] - 2s 13ms/step - loss: 0.2701 - sparse_categorical_accuracy: 0.9096 - val_loss: 2.6028 - val_sparse_categorical_accuracy: 0.4996\n",
      "Epoch 8/10\n",
      "149/149 [==============================] - 3s 19ms/step - loss: 0.2646 - sparse_categorical_accuracy: 0.9133 - val_loss: 2.7031 - val_sparse_categorical_accuracy: 0.4992\n",
      "Epoch 9/10\n",
      "149/149 [==============================] - 2s 13ms/step - loss: 0.2543 - sparse_categorical_accuracy: 0.9161 - val_loss: 2.7357 - val_sparse_categorical_accuracy: 0.4997\n",
      "Epoch 10/10\n",
      "149/149 [==============================] - 2s 15ms/step - loss: 0.2540 - sparse_categorical_accuracy: 0.9183 - val_loss: 2.8177 - val_sparse_categorical_accuracy: 0.5000\n"
     ]
    },
    {
     "data": {
      "text/plain": [
       "<keras.callbacks.History at 0x17ded346c70>"
      ]
     },
     "execution_count": 8,
     "metadata": {},
     "output_type": "execute_result"
    }
   ],
   "source": [
    "# Evaluate the base_model to see the loss and sparse_categorical_accuracy before training.\n",
    "updated_model.evaluate(x_test, y_test)\n",
    "# Compiling the model.\n",
    "updated_model.compile(\n",
    "    optimizer=tf.keras.optimizers.Adam(0.001),\n",
    "    loss=tf.keras.losses.SparseCategoricalCrossentropy(from_logits=True),\n",
    "    metrics=[tf.keras.metrics.SparseCategoricalAccuracy()],\n",
    ")\n",
    "# Retraining the base_model to obtain the new weights.\n",
    "updated_model.fit(x_train,\n",
    "          y_train,\n",
    "          batch_size=128,\n",
    "          epochs=10,\n",
    "          verbose=1,\n",
    "          validation_data=(x_test, y_test))"
   ]
  },
  {
   "cell_type": "code",
   "execution_count": null,
   "id": "919f46fb-df95-40f6-b72a-4db8f7dfd882",
   "metadata": {},
   "outputs": [],
   "source": []
  },
  {
   "cell_type": "code",
   "execution_count": null,
   "id": "32150955-f0a5-48cb-bbda-5606798c8cdc",
   "metadata": {},
   "outputs": [],
   "source": []
  },
  {
   "cell_type": "code",
   "execution_count": 4,
   "id": "e27d12e4-29ad-4bdf-a4da-77897d8285f6",
   "metadata": {},
   "outputs": [],
   "source": [
    "# Auxillary methods\n",
    "def getDist(y):\n",
    "    ax = sns.countplot(x = y)\n",
    "    ax.set(title=\"Count of data classes\")\n",
    "    plt.show()\n",
    "\n",
    "def getData(dist, x, y):\n",
    "    dx = []\n",
    "    dy = []\n",
    "    counts = [0 for i in range(10)]\n",
    "    for i in range(len(x)):\n",
    "        if counts[y[i]]<dist[y[i]]:\n",
    "            dx.append(x[i])\n",
    "            dy.append(y[i])\n",
    "            counts[y[i]] += 1\n",
    "        \n",
    "    return np.array(dx), np.array(dy)"
   ]
  },
  {
   "cell_type": "code",
   "execution_count": 5,
   "id": "dd461ab0-2440-42cf-ad59-2e502ceba850",
   "metadata": {},
   "outputs": [
    {
     "data": {
      "image/png": "[encoded data removed]",
      "text/plain": [
       "<Figure size 432x288 with 1 Axes>"
      ]
     },
     "metadata": {
      "needs_background": "light"
     },
     "output_type": "display_data"
    }
   ],
   "source": [
    "x_train, y_train = getData(dist, x_train, y_train)\n",
    "getDist(y_train)"
   ]
  },
  {
   "cell_type": "code",
   "execution_count": 3,
   "id": "de62c2a4-64c4-45a7-94b7-120ba3a348e4",
   "metadata": {},
   "outputs": [],
   "source": [
    "# Setup TenSEAL context.\n",
    "context = ts.context(\n",
    "            ts.SCHEME_TYPE.CKKS,\n",
    "            poly_modulus_degree=8192,\n",
    "            coeff_mod_bit_sizes=[60, 40, 40, 60]\n",
    "          )\n",
    "          \n",
    "context.generate_galois_keys()\n",
    "context.global_scale = 2**40"
   ]
  },
  {
   "cell_type": "code",
   "execution_count": 4,
   "id": "057e475d-af14-4e5c-89d6-d1f9fe42ab98",
   "metadata": {},
   "outputs": [
    {
     "name": "stdout",
     "output_type": "stream",
     "text": [
      "Is the context private? Yes\n"
     ]
    }
   ],
   "source": [
    "# Check is context is private.\n",
    "print(\"Is the context private?\", (\"Yes\" if context.is_private() else \"No\"))"
   ]
  },
  {
   "cell_type": "code",
   "execution_count": 5,
   "id": "2de79358-6e3b-470e-ab19-bc85a981812c",
   "metadata": {},
   "outputs": [],
   "source": [
    "# Creating a copy of the context to share with the server. Ideally, the secret key should be drop.\n",
    "public_context = context\n",
    "#sk = context.secret_key()\n",
    "#public_context.make_context_public()\n",
    "\n",
    "# Context and ciphertext serialization\n",
    "server_context = public_context.serialize(save_secret_key=True)"
   ]
  },
  {
   "cell_type": "code",
   "execution_count": 6,
   "id": "224b3569-22cf-4338-95a0-3265139e86a2",
   "metadata": {},
   "outputs": [
    {
     "name": "stdout",
     "output_type": "stream",
     "text": [
      "Is the context private? Yes\n"
     ]
    }
   ],
   "source": [
    "# Check is context is private.\n",
    "print(\"Is the context private?\", (\"Yes\" if context.is_private() else \"No\"))"
   ]
  },
  {
   "cell_type": "code",
   "execution_count": 7,
   "id": "6fe1890a-0057-4c07-a6ee-4640e11b4c69",
   "metadata": {},
   "outputs": [],
   "source": [
    "key_query = {\n",
    "    \"context\" : server_context\n",
    "}"
   ]
  },
  {
   "cell_type": "code",
   "execution_count": 11,
   "id": "7cd0e486-e3ab-4092-84de-7bc9c01cdb00",
   "metadata": {
    "tags": []
   },
   "outputs": [],
   "source": [
    "input_dictionary = (key_query)\n",
    "file = open('key_query', 'wb')\n",
    "pickle.dump(input_dictionary, file)\n",
    "file.close()"
   ]
  },
  {
   "cell_type": "code",
   "execution_count": null,
   "id": "5d7c78af-dca8-4a90-b17b-4be9f47321da",
   "metadata": {},
   "outputs": [],
   "source": []
  },
  {
   "cell_type": "code",
   "execution_count": null,
   "id": "05d4665a-8706-426b-ae9a-7bf3972faeae",
   "metadata": {},
   "outputs": [],
   "source": []
  },
  {
   "cell_type": "code",
   "execution_count": null,
   "id": "a2e6bff5-f08f-4208-95d8-e6068f4516ef",
   "metadata": {},
   "outputs": [],
   "source": []
  },
  {
   "cell_type": "code",
   "execution_count": null,
   "id": "992a5c54-742a-4d7e-9bcf-d043f8d96f40",
   "metadata": {},
   "outputs": [],
   "source": []
  },
  {
   "cell_type": "code",
   "execution_count": null,
   "id": "a3d73f2c-feaf-4441-9d24-1b0df5b2ae86",
   "metadata": {},
   "outputs": [],
   "source": []
  },
  {
   "cell_type": "code",
   "execution_count": null,
   "id": "326220ef-ea7e-473b-84a3-de431cfa6ec0",
   "metadata": {},
   "outputs": [],
   "source": []
  },
  {
   "cell_type": "code",
   "execution_count": null,
   "id": "3a05c71e-ed16-4eef-a7c7-fc4a2406c071",
   "metadata": {},
   "outputs": [],
   "source": []
  },
  {
   "cell_type": "code",
   "execution_count": 10,
   "id": "7be711b8-2668-4fd9-a218-41d8d41b1e98",
   "metadata": {},
   "outputs": [
    {
     "name": "stdout",
     "output_type": "stream",
     "text": [
      "Directory 'keys' created\n",
      "Directory 'outputs' created\n"
     ]
    }
   ],
   "source": [
    "# make a keys and output folders\n",
    "directory1 = \"keys\"  \n",
    "directory2 = \"outputs\"\n",
    "# Parent Directory path \n",
    "parent_dir = \"./\"\n",
    "    \n",
    "# Path \n",
    "path1 = os.path.join(parent_dir, directory1) \n",
    "path2 = os.path.join(parent_dir, directory2) \n",
    "\n",
    "# make the directories\n",
    "os.mkdir(path1)\n",
    "print(\"Directory '% s' created\" % directory1) \n",
    "os.mkdir(path2)\n",
    "print(\"Directory '% s' created\" % directory2) "
   ]
  },
  {
   "cell_type": "code",
   "execution_count": 6,
   "id": "e530561c-6ccd-4d59-8f88-67eafacc3136",
   "metadata": {},
   "outputs": [],
   "source": [
    "# Initialize the CKKS Scheme \n",
    "context = ts.context(ts.SCHEME_TYPE.CKKS, poly_modulus_degree = 8192, coeff_mod_bit_sizes = [60, 40, 40, 60])\n",
    "context.generate_galois_keys()\n",
    "context.global_scale = 2 ** 40 #set the global scale for encryption "
   ]
  },
  {
   "cell_type": "code",
   "execution_count": 7,
   "id": "880beeb1-5cb6-4575-a2ef-e282096d7dfe",
   "metadata": {},
   "outputs": [],
   "source": [
    "# define a function to create the CKKS scheme and save \n",
    "def save_keys():\n",
    "    # Serialize the secret key and save \n",
    "    secret_context = context.serialize(save_secret_key = True)\n",
    "    utils.write_data(\"keys/secret_client1.txt\", secret_context)\n",
    "\n",
    "    # make the public key public and save \n",
    "    context.make_context_public()\n",
    "    public_context = context.serialize()\n",
    "    utils.write_data(\"keys/public_client1.txt\", public_context)"
   ]
  },
  {
   "cell_type": "code",
   "execution_count": 8,
   "id": "348bd998-4403-47f4-8435-bff444a595a0",
   "metadata": {},
   "outputs": [],
   "source": [
    "# Save your keys\n",
    "save_keys()"
   ]
  },
  {
   "cell_type": "code",
   "execution_count": 9,
   "id": "2964b0cc-11d0-448b-a987-927aa6433f1f",
   "metadata": {},
   "outputs": [],
   "source": [
    "def flatten_weights():\n",
    "    # Get the model weights\n",
    "    weights = model.get_weights()\n",
    "    \n",
    "    # Flatten the weight matrix into a single vector\n",
    "    flattened_weights = np.concatenate([w.flatten() for w in weights])\n",
    "    return flattened_weights\n",
    "flattened_weights = flatten_weights()"
   ]
  },
  {
   "cell_type": "code",
   "execution_count": 16,
   "id": "c9008056-74ce-4797-ac2a-ad9adbf224b5",
   "metadata": {},
   "outputs": [
    {
     "name": "stdout",
     "output_type": "stream",
     "text": [
      "136074\n",
      "[7.348942487176095e-06]\n"
     ]
    }
   ],
   "source": [
    "number_of_weights = len(flattened_weights)\n",
    "inverse_number = [1/ number_of_weights]\n",
    "print(number_of_weights)\n",
    "print(inverse_number)"
   ]
  },
  {
   "cell_type": "code",
   "execution_count": 18,
   "id": "a6bdedf9-bf4a-4d4d-8a6a-aed999dfde78",
   "metadata": {},
   "outputs": [],
   "source": [
    "number_of_weights = len(flattened_weights)\n",
    "inverse_number = [1/ number_of_weights]\n",
    "encrypted_number_of_weights = ts.ckks_vector(context, inverse_number)\n",
    "utils.write_data(\"outputs/number_of_weights.txt\", encrypted_number_of_weights.serialize())"
   ]
  },
  {
   "cell_type": "code",
   "execution_count": 11,
   "id": "5f3e8b23-8b24-4208-8ec9-b1869ef13860",
   "metadata": {},
   "outputs": [
    {
     "name": "stdout",
     "output_type": "stream",
     "text": [
      "WARNING: The input does not fit in a single ciphertext, and some operations will be disabled.\n",
      "The following operations are disabled in this setup: matmul, matmul_plain, enc_matmul_plain, conv2d_im2col.\n",
      "If you need to use those operations, try increasing the poly_modulus parameter, to fit your input.\n"
     ]
    }
   ],
   "source": [
    "def encrypt_weights(): \n",
    "    # Encrypt and append each weight matrix\n",
    "    encrypted_weights = ts.ckks_vector(context, flattened_weights)\n",
    "    # Serialize and save the weights \n",
    "    utils.write_data(\"outputs/encrypted_weights.txt\", encrypted_weights.serialize())\n",
    "        \n",
    "    #return encrypted_weights\n",
    "# Encrypt the model weights \n",
    "encrypted_weights = encrypt_weights()"
   ]
  },
  {
   "cell_type": "code",
   "execution_count": 19,
   "id": "e5c3ef8f-5b1d-4fd2-ac50-eb5e082650d7",
   "metadata": {},
   "outputs": [],
   "source": [
    "m2_proto = utils.read_data(\"outputs/new_encrypted_weight.txt\")\n",
    "m2 = ts.lazy_ckks_vector_from(m2_proto)\n",
    "m2.link_context(context)"
   ]
  },
  {
   "cell_type": "code",
   "execution_count": 23,
   "id": "00727a05-26f9-427c-bf78-d8a23e60f85f",
   "metadata": {
    "collapsed": true,
    "jupyter": {
     "outputs_hidden": true
    },
    "tags": []
   },
   "outputs": [
    {
     "ename": "TypeError",
     "evalue": "incorrect type: <class 'bytes'> != SecretKey",
     "output_type": "error",
     "traceback": [
      "\u001b[1;31m---------------------------------------------------------------------------\u001b[0m",
      "\u001b[1;31mTypeError\u001b[0m                                 Traceback (most recent call last)",
      "Input \u001b[1;32mIn [23]\u001b[0m, in \u001b[0;36m<cell line: 1>\u001b[1;34m()\u001b[0m\n\u001b[1;32m----> 1\u001b[0m \u001b[38;5;28mround\u001b[39m(\u001b[43mm2\u001b[49m\u001b[38;5;241;43m.\u001b[39;49m\u001b[43mdecrypt\u001b[49m\u001b[43m(\u001b[49m\u001b[43mutils\u001b[49m\u001b[38;5;241;43m.\u001b[39;49m\u001b[43mread_data\u001b[49m\u001b[43m(\u001b[49m\u001b[38;5;124;43m\"\u001b[39;49m\u001b[38;5;124;43mkeys/secret_client1.txt\u001b[39;49m\u001b[38;5;124;43m\"\u001b[39;49m\u001b[43m)\u001b[49m\u001b[43m)\u001b[49m[\u001b[38;5;241m0\u001b[39m], \u001b[38;5;241m2\u001b[39m)\n",
      "File \u001b[1;32m~\\anaconda3\\lib\\site-packages\\tenseal\\tensors\\ckksvector.py:50\u001b[0m, in \u001b[0;36mCKKSVector.decrypt\u001b[1;34m(self, secret_key)\u001b[0m\n\u001b[0;32m     49\u001b[0m \u001b[38;5;28;01mdef\u001b[39;00m \u001b[38;5;21mdecrypt\u001b[39m(\u001b[38;5;28mself\u001b[39m, secret_key: \u001b[38;5;124m\"\u001b[39m\u001b[38;5;124mts.enc_context.SecretKey\u001b[39m\u001b[38;5;124m\"\u001b[39m \u001b[38;5;241m=\u001b[39m \u001b[38;5;28;01mNone\u001b[39;00m) \u001b[38;5;241m-\u001b[39m\u001b[38;5;241m>\u001b[39m List[\u001b[38;5;28mfloat\u001b[39m]:\n\u001b[1;32m---> 50\u001b[0m     \u001b[38;5;28;01mreturn\u001b[39;00m \u001b[38;5;28;43mself\u001b[39;49m\u001b[38;5;241;43m.\u001b[39;49m\u001b[43m_decrypt\u001b[49m\u001b[43m(\u001b[49m\u001b[43msecret_key\u001b[49m\u001b[38;5;241;43m=\u001b[39;49m\u001b[43msecret_key\u001b[49m\u001b[43m)\u001b[49m\n",
      "File \u001b[1;32m~\\anaconda3\\lib\\site-packages\\tenseal\\tensors\\abstract_tensor.py:89\u001b[0m, in \u001b[0;36mAbstractTensor._decrypt\u001b[1;34m(self, secret_key)\u001b[0m\n\u001b[0;32m     87\u001b[0m     \u001b[38;5;28;01mreturn\u001b[39;00m \u001b[38;5;28mself\u001b[39m\u001b[38;5;241m.\u001b[39mdata\u001b[38;5;241m.\u001b[39mdecrypt(secret_key\u001b[38;5;241m.\u001b[39mdata)\n\u001b[0;32m     88\u001b[0m \u001b[38;5;28;01melse\u001b[39;00m:\n\u001b[1;32m---> 89\u001b[0m     \u001b[38;5;28;01mraise\u001b[39;00m \u001b[38;5;167;01mTypeError\u001b[39;00m(\u001b[38;5;124mf\u001b[39m\u001b[38;5;124m\"\u001b[39m\u001b[38;5;124mincorrect type: \u001b[39m\u001b[38;5;132;01m{\u001b[39;00m\u001b[38;5;28mtype\u001b[39m(secret_key)\u001b[38;5;132;01m}\u001b[39;00m\u001b[38;5;124m != SecretKey\u001b[39m\u001b[38;5;124m\"\u001b[39m)\n",
      "\u001b[1;31mTypeError\u001b[0m: incorrect type: <class 'bytes'> != SecretKey"
     ]
    }
   ],
   "source": [
    "round(m2.decrypt(utils.read_data(\"keys/secret_client1.txt\"))[0], 2) "
   ]
  },
  {
   "cell_type": "code",
   "execution_count": null,
   "id": "c6950dc9-a3ab-494b-b1d8-3738df4e7fa9",
   "metadata": {},
   "outputs": [],
   "source": []
  },
  {
   "cell_type": "code",
   "execution_count": null,
   "id": "0919f019-ad93-4531-8133-c223e71cfdfb",
   "metadata": {},
   "outputs": [],
   "source": []
  },
  {
   "cell_type": "code",
   "execution_count": null,
   "id": "b951bd18-3f18-4b74-8dcc-ce401fbd1d5b",
   "metadata": {},
   "outputs": [],
   "source": []
  },
  {
   "cell_type": "code",
   "execution_count": null,
   "id": "3c6bdb37-5415-4aca-bd9e-c83f4e98ed9c",
   "metadata": {},
   "outputs": [],
   "source": []
  },
  {
   "cell_type": "code",
   "execution_count": null,
   "id": "ae418023-7010-4972-a077-ec8f929c4c33",
   "metadata": {},
   "outputs": [],
   "source": []
  },
  {
   "cell_type": "code",
   "execution_count": null,
   "id": "8de4b3c2-59aa-4008-977a-c6c979edb23a",
   "metadata": {
    "tags": []
   },
   "outputs": [],
   "source": [
    "class EncryptedClient():\n",
    "    def __init__ (self, model, **kwargs):\n",
    "        super().__init__(**kwargs)\n",
    "        self.model = model\n",
    "        \n",
    "    def flatten_weights(self):\n",
    "    # Get the model weights\n",
    "    weights = model.get_weights()\n",
    "    \n",
    "    # Flatten the weight matrix into a single vector\n",
    "    flattened_weights = np.concatenate([w.flatten() for w in weights])\n",
    "    return flattened_weights\n",
    "    \n",
    "    def encrypt_weights(self, flattened_weights): \n",
    "    # Encrypt and append each weight matrix\n",
    "    encrypted_weights = ts.ckks_vector(context, flattened_weights)\n",
    "    # Serialize and save the weights \n",
    "    utils.write_data(\"outputs/encrypted_weights.txt\", encrypted_weights.serialize())   \n",
    "    return encrypted_weights\n",
    "\n",
    "    def decrypt_weights(self, encrypted_weights):\n",
    "        # decrypt the encrypted weights \n",
    "        decrypted_weights = encrypted\n",
    "\n",
    "\n"
   ]
  },
  {
   "cell_type": "code",
   "execution_count": null,
   "id": "cee6e998-2023-4d93-b428-5a4d8092203a",
   "metadata": {},
   "outputs": [],
   "source": []
  },
  {
   "cell_type": "code",
   "execution_count": null,
   "id": "6640f2ac-a6f2-4174-a0a4-e0073039f52c",
   "metadata": {},
   "outputs": [],
   "source": [
    "# Define Flower client\n",
    "class FlowerClient(fl.client.NumPyClient):\n",
    "    def get_parameters(self, config):\n",
    "        return model.get_weights()\n",
    "\n",
    "    def set_parameters(self, parameters, config):\n",
    "        self.model.set_weights(parameters)\n",
    "    \n",
    "    def fit(self, parameters, config):\n",
    "        model.set_weights(parameters)\n",
    "        r = model.fit(x_train, y_train, epochs=1, validation_data=(x_test, y_test), verbose=0)\n",
    "        hist = r.history\n",
    "        print(\"Fit history : \" ,hist)\n",
    "        return model.get_weights(), len(x_train), {}\n",
    "\n",
    "    def evaluate(self, parameters, config):\n",
    "        model.set_weights(parameters)\n",
    "        loss, accuracy = model.evaluate(x_test, y_test, verbose=0)\n",
    "        print(\"Eval accuracy : \", accuracy)\n",
    "        return loss, len(x_test), {\"accuracy\": accuracy}"
   ]
  },
  {
   "cell_type": "code",
   "execution_count": null,
   "id": "8c2f6dd6-0851-4437-8737-ef2ca7257a60",
   "metadata": {},
   "outputs": [],
   "source": []
  },
  {
   "cell_type": "code",
   "execution_count": null,
   "id": "aed1b374-021d-4424-85d4-0b461b30a326",
   "metadata": {},
   "outputs": [],
   "source": [
    "'''# Start Flower client\n",
    "fl.client.start_numpy_client(\n",
    "        server_address=\"localhost:8080\",\n",
    "        client=FlowerClient(), \n",
    "        grpc_max_message_length = 1024*1024*1024\n",
    ")'''"
   ]
  },
  {
   "cell_type": "code",
   "execution_count": null,
   "id": "d32d3740-bf81-4542-9e2d-6add6ff355e6",
   "metadata": {},
   "outputs": [],
   "source": []
  },
  {
   "cell_type": "code",
   "execution_count": null,
   "id": "23bde591-f6ab-4fc3-8c6a-40cec2684590",
   "metadata": {},
   "outputs": [],
   "source": []
  }
 ],
 "metadata": {
  "kernelspec": {
   "display_name": "Python 3 (ipykernel)",
   "language": "python",
   "name": "python3"
  },
  "language_info": {
   "codemirror_mode": {
    "name": "ipython",
    "version": 3
   },
   "file_extension": ".py",
   "mimetype": "text/x-python",
   "name": "python",
   "nbconvert_exporter": "python",
   "pygments_lexer": "ipython3",
   "version": "3.9.12"
  }
 },
 "nbformat": 4,
 "nbformat_minor": 5
}
