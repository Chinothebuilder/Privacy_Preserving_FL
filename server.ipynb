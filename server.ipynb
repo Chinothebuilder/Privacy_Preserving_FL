{
 "cells": [
  {
   "cell_type": "code",
   "execution_count": 1,
   "id": "3319e89d-1ed3-4a34-b6a7-eab20ff5bdb3",
   "metadata": {},
   "outputs": [],
   "source": [
    "import tenseal as ts\n",
    "import os\n",
    "import utils\n",
    "import flwr as fl\n",
    "import tensorflow as tf\n",
    "from tensorflow import keras\n",
    "import sys\n",
    "import seaborn as sns\n",
    "import matplotlib.pyplot as plt\n",
    "import numpy as np\n",
    "from sklearn.metrics import confusion_matrix\n",
    "import pickle\n",
    "from time import time"
   ]
  },
  {
   "cell_type": "markdown",
   "id": "8667cd58-2381-4b11-a960-975e12938b2a",
   "metadata": {
    "tags": []
   },
   "source": [
    "## Main"
   ]
  },
  {
   "cell_type": "code",
   "execution_count": 16,
   "id": "8a2234e4-eb73-4703-921d-857165392c31",
   "metadata": {},
   "outputs": [
    {
     "name": "stdout",
     "output_type": "stream",
     "text": [
      "Number of original training examples: 60000\n",
      "Number of original test examples: 10000\n"
     ]
    }
   ],
   "source": [
    "# Load the data\n",
    "(x_train, y_train), (x_test, y_test) = tf.keras.datasets.mnist.load_data()\n",
    "\n",
    "# Rescale the images from [0,255] to the [0.0,1.0] range.\n",
    "x_train, x_test = x_train[..., np.newaxis]/255.0, x_test[..., np.newaxis]/255.0\n",
    "\n",
    "print(\"Number of original training examples:\", len(x_train))\n",
    "print(\"Number of original test examples:\", len(x_test))"
   ]
  },
  {
   "cell_type": "code",
   "execution_count": 17,
   "id": "dc8ce087-f4a0-4ab4-8330-719276bfeeae",
   "metadata": {},
   "outputs": [],
   "source": [
    "# Slicing the MNIST original dataset to retain only part of the dataset.\n",
    "x_train = x_train[:20000,:,:]\n",
    "y_train = y_train[:20000]\n",
    "x_test = x_test[:4000,:,:]\n",
    "y_test  = y_test[:4000]"
   ]
  },
  {
   "cell_type": "code",
   "execution_count": 4,
   "id": "d1a40a37-9c2e-4f2a-889a-b0a90ec67859",
   "metadata": {},
   "outputs": [
    {
     "name": "stdout",
     "output_type": "stream",
     "text": [
      "x_train: 20000\n",
      "y_train: 20000\n",
      "x_test: 4000\n",
      "y_test: 4000\n"
     ]
    }
   ],
   "source": [
    "# Length of the new dataset\n",
    "print(\"x_train:\",len(x_train))\n",
    "print(\"y_train:\",len(y_train))\n",
    "print(\"x_test:\",len(x_test))\n",
    "print(\"y_test:\",len(y_test))"
   ]
  },
  {
   "cell_type": "code",
   "execution_count": 5,
   "id": "8d2c7086-6221-4d8b-a181-021db2acccbb",
   "metadata": {},
   "outputs": [
    {
     "data": {
      "image/png": "[encoded data removed]",
      "text/plain": [
       "<Figure size 432x288 with 50 Axes>"
      ]
     },
     "metadata": {
      "needs_background": "light"
     },
     "output_type": "display_data"
    }
   ],
   "source": [
    "# Display a sample of the server dataset. \n",
    "digits = {}\n",
    "for i in range(10):\n",
    "    digits[i] = np.where(y_test==i)[0][:5]\n",
    "#print(digits)\n",
    "\n",
    "fig, ax = plt.subplots(10, 5, sharex='col', sharey='row')\n",
    "for i in range(10):\n",
    "    for j in range(5):\n",
    "        ax[i, j].imshow(x_test[digits[i][j]])"
   ]
  },
  {
   "cell_type": "code",
   "execution_count": 6,
   "id": "0dec2e03-75cf-4447-9c49-45d408b62594",
   "metadata": {},
   "outputs": [
    {
     "name": "stdout",
     "output_type": "stream",
     "text": [
      "Model: \"sequential\"\n",
      "_________________________________________________________________\n",
      " Layer (type)                Output Shape              Param #   \n",
      "=================================================================\n",
      " flatten (Flatten)           (None, 784)               0         \n",
      "                                                                 \n",
      " dense (Dense)               (None, 10)                7840      \n",
      "                                                                 \n",
      " dropout (Dropout)           (None, 10)                0         \n",
      "                                                                 \n",
      " dense_1 (Dense)             (None, 10)                100       \n",
      "                                                                 \n",
      "=================================================================\n",
      "Total params: 7,940\n",
      "Trainable params: 7,940\n",
      "Non-trainable params: 0\n",
      "_________________________________________________________________\n"
     ]
    }
   ],
   "source": [
    "# The model Architecture\n",
    "# Model's architecture.\n",
    "model_base = tf.keras.models.Sequential([\n",
    "  tf.keras.layers.Flatten(input_shape=(28, 28)),\n",
    "  tf.keras.layers.Dense(10, activation='relu',use_bias=False, kernel_initializer='glorot_uniform'),\n",
    "  tf.keras.layers.Dropout(0.2),\n",
    "  tf.keras.layers.Dense(10, activation='softmax',use_bias=False, kernel_initializer='glorot_uniform')\n",
    "])\n",
    "\n",
    "model_base.summary()"
   ]
  },
  {
   "cell_type": "code",
   "execution_count": 7,
   "id": "46e2ec25-fa41-4baa-ab80-d45d277d1445",
   "metadata": {},
   "outputs": [],
   "source": [
    "# Compiling the model.\n",
    "model_base.compile(\n",
    "    optimizer=tf.keras.optimizers.Adam(0.001),\n",
    "    loss=tf.keras.losses.SparseCategoricalCrossentropy(from_logits=True),\n",
    "    metrics=[tf.keras.metrics.SparseCategoricalAccuracy()],\n",
    ")"
   ]
  },
  {
   "cell_type": "code",
   "execution_count": 8,
   "id": "4a420d64-a8fb-4fb4-85ad-29379135a560",
   "metadata": {},
   "outputs": [
    {
     "name": "stdout",
     "output_type": "stream",
     "text": [
      "Epoch 1/10\n"
     ]
    },
    {
     "name": "stderr",
     "output_type": "stream",
     "text": [
      "C:\\Users\\USER\\anaconda3\\lib\\site-packages\\keras\\backend.py:5585: UserWarning: \"`sparse_categorical_crossentropy` received `from_logits=True`, but the `output` argument was produced by a Softmax activation and thus does not represent logits. Was this intended?\n",
      "  output, from_logits = _get_logits(\n"
     ]
    },
    {
     "name": "stdout",
     "output_type": "stream",
     "text": [
      "157/157 [==============================] - 4s 10ms/step - loss: 1.5430 - sparse_categorical_accuracy: 0.4926 - val_loss: 1.0677 - val_sparse_categorical_accuracy: 0.7205\n",
      "Epoch 2/10\n",
      "157/157 [==============================] - 1s 7ms/step - loss: 0.9985 - sparse_categorical_accuracy: 0.6715 - val_loss: 0.7573 - val_sparse_categorical_accuracy: 0.7972\n",
      "Epoch 3/10\n",
      "157/157 [==============================] - 1s 7ms/step - loss: 0.8084 - sparse_categorical_accuracy: 0.7378 - val_loss: 0.6187 - val_sparse_categorical_accuracy: 0.8372\n",
      "Epoch 4/10\n",
      "157/157 [==============================] - 1s 7ms/step - loss: 0.7178 - sparse_categorical_accuracy: 0.7666 - val_loss: 0.5501 - val_sparse_categorical_accuracy: 0.8515\n",
      "Epoch 5/10\n",
      "157/157 [==============================] - 1s 7ms/step - loss: 0.6844 - sparse_categorical_accuracy: 0.7709 - val_loss: 0.5175 - val_sparse_categorical_accuracy: 0.8580\n",
      "Epoch 6/10\n",
      "157/157 [==============================] - 1s 7ms/step - loss: 0.6578 - sparse_categorical_accuracy: 0.7796 - val_loss: 0.4921 - val_sparse_categorical_accuracy: 0.8637\n",
      "Epoch 7/10\n",
      "157/157 [==============================] - 1s 7ms/step - loss: 0.6193 - sparse_categorical_accuracy: 0.7969 - val_loss: 0.4667 - val_sparse_categorical_accuracy: 0.8673\n",
      "Epoch 8/10\n",
      "157/157 [==============================] - 1s 7ms/step - loss: 0.6072 - sparse_categorical_accuracy: 0.7984 - val_loss: 0.4600 - val_sparse_categorical_accuracy: 0.8720\n",
      "Epoch 9/10\n",
      "157/157 [==============================] - 1s 7ms/step - loss: 0.6036 - sparse_categorical_accuracy: 0.7990 - val_loss: 0.4591 - val_sparse_categorical_accuracy: 0.8717\n",
      "Epoch 10/10\n",
      "157/157 [==============================] - 1s 7ms/step - loss: 0.5814 - sparse_categorical_accuracy: 0.8043 - val_loss: 0.4435 - val_sparse_categorical_accuracy: 0.8705\n"
     ]
    },
    {
     "data": {
      "text/plain": [
       "<keras.callbacks.History at 0x2315fe25eb0>"
      ]
     },
     "execution_count": 8,
     "metadata": {},
     "output_type": "execute_result"
    }
   ],
   "source": [
    "# Training the base_model.\n",
    "model_base.fit(x_train,\n",
    "          y_train,\n",
    "          batch_size=128,\n",
    "          epochs=10,\n",
    "          verbose=1,\n",
    "          validation_data=(x_test, y_test))"
   ]
  },
  {
   "cell_type": "code",
   "execution_count": 9,
   "id": "fb16e62f-c74e-4ac7-a348-7c36ce608e60",
   "metadata": {},
   "outputs": [
    {
     "name": "stdout",
     "output_type": "stream",
     "text": [
      "flatten 0\n",
      "dense 1\n",
      "dropout 0\n",
      "dense_1 1\n"
     ]
    }
   ],
   "source": [
    "# Checking which layers have weights & bias.\n",
    "for layer in model_base.layers:\n",
    "    print(layer.name, len(layer.weights))"
   ]
  },
  {
   "cell_type": "code",
   "execution_count": 10,
   "id": "609481c7-68c7-46df-8b43-164337aa8327",
   "metadata": {},
   "outputs": [
    {
     "name": "stderr",
     "output_type": "stream",
     "text": [
      "WARNING:absl:Found untraced functions such as _update_step_xla while saving (showing 1 of 1). These functions will not be directly callable after loading.\n"
     ]
    },
    {
     "name": "stdout",
     "output_type": "stream",
     "text": [
      "INFO:tensorflow:Assets written to: saved_model/base_model\\assets\n"
     ]
    },
    {
     "name": "stderr",
     "output_type": "stream",
     "text": [
      "INFO:tensorflow:Assets written to: saved_model/base_model\\assets\n"
     ]
    }
   ],
   "source": [
    "# Saving the model.\n",
    "model_base.save('saved_model/base_model')"
   ]
  },
  {
   "cell_type": "code",
   "execution_count": 11,
   "id": "94d10354-25ea-4ff2-b8b4-a4ca52a67e41",
   "metadata": {},
   "outputs": [
    {
     "name": "stdout",
     "output_type": "stream",
     "text": [
      "125/125 [==============================] - 1s 4ms/step\n",
      "7\n"
     ]
    },
    {
     "data": {
      "image/png": "[encoded data removed]",
      "text/plain": [
       "<Figure size 432x288 with 1 Axes>"
      ]
     },
     "metadata": {
      "needs_background": "light"
     },
     "output_type": "display_data"
    }
   ],
   "source": [
    "# Prediction \n",
    "predictions = model_base.predict(x_test)\n",
    "print(np.argmax(predictions[0]))\n",
    "plt.imshow(x_test[0])\n",
    "plt.show()"
   ]
  },
  {
   "cell_type": "code",
   "execution_count": 24,
   "id": "08c2c6c1-2a21-4054-927e-94ba8e080f95",
   "metadata": {},
   "outputs": [
    {
     "data": {
      "text/plain": [
       "array([[357,   0,   2,   0,   1,   3,   5,   0,   2,   0],\n",
       "       [  0, 435,   5,   2,   1,   0,   2,   0,   5,   0],\n",
       "       [  4,   2, 357,  11,   4,   1,   6,   9,  23,   1],\n",
       "       [  2,   1,  10, 352,   1,  19,   2,   9,   8,   4],\n",
       "       [  1,   0,   3,   0, 383,   0,   7,   0,   4,  20],\n",
       "       [ 10,   0,   0,  31,   7, 282,   3,   4,  30,   5],\n",
       "       [ 15,   3,   4,   0,  10,   9, 331,   0,   6,   0],\n",
       "       [  3,  18,  12,   5,   4,   0,   0, 346,   3,  20],\n",
       "       [  5,   7,   8,  18,   7,  12,   2,   7, 313,   5],\n",
       "       [  4,   4,   0,  10,  30,   0,   0,   8,   9, 326]], dtype=int64)"
      ]
     },
     "execution_count": 24,
     "metadata": {},
     "output_type": "execute_result"
    }
   ],
   "source": [
    "#Accuracy and confusion matrix\n",
    "# Creating a multiclass confusion matrix before training.\n",
    "confusion = confusion_matrix(y_test, np.argmax(predictions,axis=1))\n",
    "confusion"
   ]
  },
  {
   "cell_type": "markdown",
   "id": "712cf575-d199-4623-82d9-bb50eb96e7fa",
   "metadata": {},
   "source": [
    "#### Create the CKKS scheme "
   ]
  },
  {
   "cell_type": "code",
   "execution_count": 23,
   "id": "e623fbae-81b9-44c6-bbfb-321d3ecdd253",
   "metadata": {},
   "outputs": [],
   "source": [
    "# Setup TenSEAL context.\n",
    "context = ts.context(\n",
    "            ts.SCHEME_TYPE.CKKS,\n",
    "            poly_modulus_degree=8192,\n",
    "            coeff_mod_bit_sizes=[60, 40, 40, 60]\n",
    "          )\n",
    "          \n",
    "context.generate_galois_keys()\n",
    "context.global_scale = 2**40"
   ]
  },
  {
   "cell_type": "code",
   "execution_count": 29,
   "id": "84826820-f8a7-4a57-bfe3-399155ab6f15",
   "metadata": {},
   "outputs": [
    {
     "name": "stdout",
     "output_type": "stream",
     "text": [
      "Is the context private? Yes\n",
      "Is the context public? No\n"
     ]
    }
   ],
   "source": [
    "# Save the secret key \n",
    "#sk = context.secret_key()\n",
    "\n",
    "# Creating a copy of the context to share with the server. Ideally, the secret key should be drop.\n",
    "public_context = context\n",
    "#public_context.make_context_public()\n",
    "\n",
    "# Context and ciphertext serialization\n",
    "server_context = public_context.serialize(save_secret_key=True)\n",
    "print(\"Is the context private?\", (\"Yes\" if public_context.is_private() else \"No\"))\n",
    "print(\"Is the context public?\", (\"Yes\" if public_context.is_public() else \"No\"))"
   ]
  },
  {
   "cell_type": "code",
   "execution_count": 30,
   "id": "8475da97-d836-49f1-8ad9-56d31ce3adaf",
   "metadata": {},
   "outputs": [],
   "source": [
    "key_query = {\n",
    "    \"context\" : server_context\n",
    "}"
   ]
  },
  {
   "cell_type": "code",
   "execution_count": 32,
   "id": "7690655b-b440-41d5-8114-a1f3fa6bcfde",
   "metadata": {
    "tags": []
   },
   "outputs": [],
   "source": [
    "# Dump the context in a dictionary \n",
    "input_dictionary = (key_query)\n",
    "file = open('key_query', 'wb')\n",
    "pickle.dump(input_dictionary, file)\n",
    "file.close()"
   ]
  },
  {
   "cell_type": "code",
   "execution_count": null,
   "id": "eaf96a41-378e-4430-b4e4-40c9dea31bb4",
   "metadata": {},
   "outputs": [],
   "source": [
    "# load the serialized key from the file \n",
    "with open (\"secret_key.bin\", \"rb\") as file: \n",
    "    serialized_secret_key = file.read()\n",
    "\n",
    "# Deserialize the secret key \n",
    "secret_key = ts.SecretKey()\n",
    "secret_key.deserialize(serialized_secret_key)"
   ]
  },
  {
   "cell_type": "markdown",
   "id": "1c9ef2e0-95c4-4a9e-ad76-6ab80f8cc755",
   "metadata": {
    "tags": []
   },
   "source": [
    "## With Updated weight"
   ]
  },
  {
   "cell_type": "markdown",
   "id": "0a7c0987-3176-40b3-99ca-959b4b8cb48d",
   "metadata": {
    "tags": []
   },
   "source": [
    "### For Client 1"
   ]
  },
  {
   "cell_type": "code",
   "execution_count": 7,
   "id": "481c0a54-6a62-40ca-951c-5d716fa3b231",
   "metadata": {
    "tags": []
   },
   "outputs": [
    {
     "name": "stdout",
     "output_type": "stream",
     "text": [
      "weight decryption time for client: 67870.0156211853 ms\n"
     ]
    }
   ],
   "source": [
    "def decrypt_weights_x():\n",
    "    # load the context key\n",
    "    key_query_file = open('key_query', \"rb\")\n",
    "    context_key = pickle.load(key_query_file)\n",
    "    key_query_file.close()\n",
    "\n",
    "    # recreate the key.\n",
    "    context = ts.context_from(context_key[\"context\"])\n",
    "    \n",
    "    # load the data from file\n",
    "    client1_weights_file = open('client1_enc', \"rb\")\n",
    "    client1_weights = pickle.load(client1_weights_file)\n",
    "    client1_weights_file.close()\n",
    "    \n",
    "    # Recreating the CKKS encrypted tensors from their serialized counterparts.\n",
    "    enc_x1 = ts.ckks_tensor_from(context, client1_weights[\"data1\"])\n",
    "    enc_x2 = ts.ckks_tensor_from(context, client1_weights[\"data2\"])\n",
    "    \n",
    "    # Decrypting the 2 encrypted arrays to form the original weight array.\n",
    "    t_start = time()\n",
    "    denc_x1 = enc_x1.decrypt().tolist()\n",
    "    denc_x2 = enc_x2.decrypt().tolist()\n",
    "    t_end = time()\n",
    "    print(\"weight decryption time for client: {} ms\".format((t_end - t_start) * 1000))\n",
    "    \n",
    "    # Since the encrypyted array was splitted to cater for the 2GB limit, we restore the array to their original shape.\n",
    "    denc_x = np.dstack((denc_x1, denc_x2))\n",
    "    return denc_x\n",
    "denc_x = decrypt_weights_x()"
   ]
  },
  {
   "cell_type": "code",
   "execution_count": null,
   "id": "55ecac3a-0d64-4c01-a11e-2616bc4bdf8f",
   "metadata": {},
   "outputs": [],
   "source": [
    "#denc_x[0]"
   ]
  },
  {
   "cell_type": "markdown",
   "id": "37a40088-06d4-4a56-9e83-59af54b5f920",
   "metadata": {
    "tags": []
   },
   "source": [
    "### For Client 2"
   ]
  },
  {
   "cell_type": "code",
   "execution_count": 4,
   "id": "3372efd8-7fe1-4efb-9b72-7586aa9fe601",
   "metadata": {},
   "outputs": [
    {
     "name": "stdout",
     "output_type": "stream",
     "text": [
      "weight decryption time for client: 66448.94933700562 ms\n"
     ]
    }
   ],
   "source": [
    "def decrypt_weights_y():\n",
    "    # load the context key\n",
    "    key_query_file = open('key_query', \"rb\")\n",
    "    context_key = pickle.load(key_query_file)\n",
    "    key_query_file.close()\n",
    "\n",
    "    # recreate the key.\n",
    "    context = ts.context_from(context_key[\"context\"])\n",
    "    \n",
    "    # load the data from file\n",
    "    client2_weights_file = open('client2_enc', \"rb\")\n",
    "    client2_weights = pickle.load(client2_weights_file)\n",
    "    client2_weights_file.close()\n",
    "    \n",
    "    # Recreating the CKKS encrypted tensors from their serialized counterparts.\n",
    "    enc_y1 = ts.ckks_tensor_from(context, client2_weights[\"data1\"])\n",
    "    enc_y2 = ts.ckks_tensor_from(context, client2_weights[\"data2\"])\n",
    "    \n",
    "    # Decrypting the 2 encrypted arrays to form the original weight array.\n",
    "    t_start = time()\n",
    "    denc_y1 = enc_y1.decrypt().tolist()\n",
    "    denc_y2 = enc_y2.decrypt().tolist()\n",
    "    t_end = time()\n",
    "    print(\"weight decryption time for client: {} ms\".format((t_end - t_start) * 1000))\n",
    "    \n",
    "    # Since the encrypyted array was splitted to cater for the 2GB limit, we restore the array to their original shape.\n",
    "    denc_y = np.dstack((denc_y1, denc_y2))\n",
    "    return denc_y\n",
    "denc_y = decrypt_weights_y()"
   ]
  },
  {
   "cell_type": "markdown",
   "id": "accd55ce-c7d8-4f2e-88e8-2591a2593edd",
   "metadata": {
    "tags": []
   },
   "source": [
    "### Make Average of the weights"
   ]
  },
  {
   "cell_type": "code",
   "execution_count": 9,
   "id": "3ef048fb-88a7-4a19-b102-23b7aa8186b4",
   "metadata": {},
   "outputs": [],
   "source": [
    "def average_weight_scale ():\n",
    "    result = (denc_x + denc_y)\n",
    "    result_avg = result / 2\n",
    "    return result_avg"
   ]
  },
  {
   "cell_type": "code",
   "execution_count": 10,
   "id": "4d343ef7-a0f8-4207-86e0-5a29a44720aa",
   "metadata": {},
   "outputs": [],
   "source": [
    "average_model_weights = average_weight_scale ()"
   ]
  },
  {
   "cell_type": "markdown",
   "id": "3ab2f3b4-3a06-4380-8dbf-fe1a0b8b507d",
   "metadata": {
    "tags": []
   },
   "source": [
    "### Load the base model and update to create the updated model"
   ]
  },
  {
   "cell_type": "code",
   "execution_count": 12,
   "id": "7cbcf946-f914-4277-9a97-69679b5f9371",
   "metadata": {},
   "outputs": [
    {
     "name": "stdout",
     "output_type": "stream",
     "text": [
      "Model: \"sequential\"\n",
      "_________________________________________________________________\n",
      " Layer (type)                Output Shape              Param #   \n",
      "=================================================================\n",
      " flatten (Flatten)           (None, 784)               0         \n",
      "                                                                 \n",
      " dense (Dense)               (None, 10)                7840      \n",
      "                                                                 \n",
      " dropout (Dropout)           (None, 10)                0         \n",
      "                                                                 \n",
      " dense_1 (Dense)             (None, 10)                100       \n",
      "                                                                 \n",
      "=================================================================\n",
      "Total params: 7,940\n",
      "Trainable params: 7,940\n",
      "Non-trainable params: 0\n",
      "_________________________________________________________________\n"
     ]
    }
   ],
   "source": [
    "# Loading the base_model.\n",
    "new_model = tf.keras.models.load_model('saved_model/base_model')\n",
    "\n",
    "# Check its architecture\n",
    "new_model.summary()"
   ]
  },
  {
   "cell_type": "code",
   "execution_count": 13,
   "id": "e76f34a6-81c7-4bde-a4f4-bd5040cbbfeb",
   "metadata": {},
   "outputs": [],
   "source": [
    "# Update the the model with the updated weights\n",
    "new_model.layers[1].set_weights(average_model_weights)"
   ]
  },
  {
   "cell_type": "code",
   "execution_count": 14,
   "id": "8a6407c7-af03-4288-aafa-f7cde232181b",
   "metadata": {},
   "outputs": [],
   "source": [
    "# Compiling the model.\n",
    "new_model.compile(\n",
    "    optimizer=tf.keras.optimizers.Adam(0.001),\n",
    "    loss=tf.keras.losses.SparseCategoricalCrossentropy(from_logits=True),\n",
    "    metrics=[tf.keras.metrics.SparseCategoricalAccuracy()],\n",
    ")"
   ]
  },
  {
   "cell_type": "code",
   "execution_count": 18,
   "id": "642525e4-69ce-4fd3-a9c2-f03743eb52f2",
   "metadata": {},
   "outputs": [
    {
     "name": "stdout",
     "output_type": "stream",
     "text": [
      "Epoch 1/10\n"
     ]
    },
    {
     "name": "stderr",
     "output_type": "stream",
     "text": [
      "C:\\Users\\USER\\anaconda3\\lib\\site-packages\\keras\\backend.py:5585: UserWarning: \"`sparse_categorical_crossentropy` received `from_logits=True`, but the `output` argument was produced by a Softmax activation and thus does not represent logits. Was this intended?\n",
      "  output, from_logits = _get_logits(\n"
     ]
    },
    {
     "name": "stdout",
     "output_type": "stream",
     "text": [
      "157/157 [==============================] - 38s 122ms/step - loss: 0.6276 - sparse_categorical_accuracy: 0.7868 - val_loss: 0.4554 - val_sparse_categorical_accuracy: 0.8685\n",
      "Epoch 2/10\n",
      "157/157 [==============================] - 13s 84ms/step - loss: 0.5786 - sparse_categorical_accuracy: 0.8056 - val_loss: 0.4424 - val_sparse_categorical_accuracy: 0.8695\n",
      "Epoch 3/10\n",
      "157/157 [==============================] - 13s 81ms/step - loss: 0.5630 - sparse_categorical_accuracy: 0.8096 - val_loss: 0.4311 - val_sparse_categorical_accuracy: 0.8727\n",
      "Epoch 4/10\n",
      "157/157 [==============================] - 15s 95ms/step - loss: 0.5475 - sparse_categorical_accuracy: 0.8139 - val_loss: 0.4207 - val_sparse_categorical_accuracy: 0.8712\n",
      "Epoch 5/10\n",
      "157/157 [==============================] - 14s 87ms/step - loss: 0.5482 - sparse_categorical_accuracy: 0.8177 - val_loss: 0.4181 - val_sparse_categorical_accuracy: 0.8725\n",
      "Epoch 6/10\n",
      "157/157 [==============================] - 14s 87ms/step - loss: 0.5404 - sparse_categorical_accuracy: 0.8198 - val_loss: 0.4181 - val_sparse_categorical_accuracy: 0.8700\n",
      "Epoch 7/10\n",
      "157/157 [==============================] - 13s 80ms/step - loss: 0.5294 - sparse_categorical_accuracy: 0.8202 - val_loss: 0.4086 - val_sparse_categorical_accuracy: 0.8748\n",
      "Epoch 8/10\n",
      "157/157 [==============================] - 10s 67ms/step - loss: 0.5239 - sparse_categorical_accuracy: 0.8266 - val_loss: 0.4035 - val_sparse_categorical_accuracy: 0.8790\n",
      "Epoch 9/10\n",
      "157/157 [==============================] - 11s 69ms/step - loss: 0.5191 - sparse_categorical_accuracy: 0.8239 - val_loss: 0.4064 - val_sparse_categorical_accuracy: 0.8780\n",
      "Epoch 10/10\n",
      "157/157 [==============================] - 12s 80ms/step - loss: 0.5135 - sparse_categorical_accuracy: 0.8267 - val_loss: 0.4052 - val_sparse_categorical_accuracy: 0.8763\n"
     ]
    },
    {
     "data": {
      "text/plain": [
       "<keras.callbacks.History at 0x230757ac550>"
      ]
     },
     "execution_count": 18,
     "metadata": {},
     "output_type": "execute_result"
    }
   ],
   "source": [
    "# Training the updated_model.\n",
    "new_model.fit(x_train,\n",
    "          y_train,\n",
    "          batch_size=128,\n",
    "          epochs=10,\n",
    "          verbose=1,\n",
    "          validation_data=(x_test, y_test))"
   ]
  },
  {
   "cell_type": "code",
   "execution_count": 19,
   "id": "6a08f383-23c6-400a-adea-606e038934a0",
   "metadata": {},
   "outputs": [
    {
     "name": "stderr",
     "output_type": "stream",
     "text": [
      "WARNING:absl:Found untraced functions such as _update_step_xla while saving (showing 1 of 1). These functions will not be directly callable after loading.\n"
     ]
    },
    {
     "name": "stdout",
     "output_type": "stream",
     "text": [
      "INFO:tensorflow:Assets written to: saved_model/updated_model\\assets\n"
     ]
    },
    {
     "name": "stderr",
     "output_type": "stream",
     "text": [
      "INFO:tensorflow:Assets written to: saved_model/updated_model\\assets\n"
     ]
    }
   ],
   "source": [
    "# save the model\n",
    "new_model.save('saved_model/updated_model')"
   ]
  },
  {
   "cell_type": "markdown",
   "id": "41f9b1d0-26a2-4df6-8bd9-b777616ab852",
   "metadata": {
    "tags": []
   },
   "source": [
    "### Make Predictions"
   ]
  },
  {
   "cell_type": "code",
   "execution_count": 61,
   "id": "145d9349-1729-4589-9ddc-fa5f3e94bd0e",
   "metadata": {},
   "outputs": [
    {
     "name": "stdout",
     "output_type": "stream",
     "text": [
      "125/125 [==============================] - 8s 4ms/step\n",
      "7\n"
     ]
    },
    {
     "data": {
      "image/png": "[encoded data removed]",
      "text/plain": [
       "<Figure size 432x288 with 1 Axes>"
      ]
     },
     "metadata": {
      "needs_background": "light"
     },
     "output_type": "display_data"
    }
   ],
   "source": [
    "predictions = new_model.predict(x_test)\n",
    "print(np.argmax(predictions[0]))\n",
    "plt.imshow(x_test[0])\n",
    "plt.show()"
   ]
  },
  {
   "cell_type": "code",
   "execution_count": 62,
   "id": "af1216eb-64c5-4706-8e8b-45b0e60b5cc2",
   "metadata": {},
   "outputs": [
    {
     "data": {
      "text/plain": [
       "array([[355,   0,   3,   2,   0,   2,   6,   0,   2,   0],\n",
       "       [  0, 437,   4,   1,   1,   0,   3,   0,   4,   0],\n",
       "       [  6,   2, 364,   8,   4,   1,   9,   8,  15,   1],\n",
       "       [  4,   1,  11, 347,   0,  22,   1,  10,   6,   6],\n",
       "       [  2,   0,   4,   0, 380,   0,   5,   0,   5,  22],\n",
       "       [ 14,   0,   3,  20,   6, 297,   5,   4,  17,   6],\n",
       "       [ 15,   3,   8,   0,   6,   6, 338,   0,   2,   0],\n",
       "       [  2,  15,  12,   3,   5,   0,   0, 357,   0,  17],\n",
       "       [  6,   6,   9,  15,   3,  12,   3,   6, 310,  14],\n",
       "       [  4,   4,   0,   8,  18,   1,   0,   8,   9, 339]], dtype=int64)"
      ]
     },
     "execution_count": 62,
     "metadata": {},
     "output_type": "execute_result"
    }
   ],
   "source": [
    "# Check the accuracy \n",
    "confusion = confusion_matrix(y_test, np.argmax(predictions,axis=1))\n",
    "confusion"
   ]
  },
  {
   "cell_type": "code",
   "execution_count": 63,
   "id": "cc272430-777d-423c-a0ac-b7894f218ff1",
   "metadata": {},
   "outputs": [],
   "source": [
    "start_time = time.time()"
   ]
  },
  {
   "cell_type": "code",
   "execution_count": 64,
   "id": "f22f9723-6dda-4c7d-b53d-37540d57ffc7",
   "metadata": {},
   "outputs": [
    {
     "name": "stdout",
     "output_type": "stream",
     "text": [
      "--- 0.6119949817657471 seconds ---\n"
     ]
    }
   ],
   "source": [
    "print(\"--- %s seconds ---\" % (time.time() - start_time))"
   ]
  },
  {
   "cell_type": "code",
   "execution_count": null,
   "id": "0ee8e168-b221-4be6-955a-fe225530ef1e",
   "metadata": {},
   "outputs": [],
   "source": []
  }
 ],
 "metadata": {
  "kernelspec": {
   "display_name": "Python 3 (ipykernel)",
   "language": "python",
   "name": "python3"
  },
  "language_info": {
   "codemirror_mode": {
    "name": "ipython",
    "version": 3
   },
   "file_extension": ".py",
   "mimetype": "text/x-python",
   "name": "python",
   "nbconvert_exporter": "python",
   "pygments_lexer": "ipython3",
   "version": "3.9.12"
  }
 },
 "nbformat": 4,
 "nbformat_minor": 5
}
